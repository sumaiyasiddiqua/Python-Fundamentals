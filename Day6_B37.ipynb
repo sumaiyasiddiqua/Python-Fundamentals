{
 "cells": [
  {
   "cell_type": "code",
   "execution_count": null,
   "metadata": {},
   "outputs": [],
   "source": [
    "#list"
   ]
  },
  {
   "cell_type": "code",
   "execution_count": 1,
   "metadata": {},
   "outputs": [
    {
     "name": "stdout",
     "output_type": "stream",
     "text": [
      "['shafi', 'akshay', 'ibrahim', 'sumaiya', 'idris']\n"
     ]
    }
   ],
   "source": [
    "students=['shafi','akshay','ibrahim','sumaiya','idris']\n",
    "print(students)"
   ]
  },
  {
   "cell_type": "code",
   "execution_count": 2,
   "metadata": {},
   "outputs": [
    {
     "data": {
      "text/plain": [
       "list"
      ]
     },
     "execution_count": 2,
     "metadata": {},
     "output_type": "execute_result"
    }
   ],
   "source": [
    "type(students)"
   ]
  },
  {
   "cell_type": "code",
   "execution_count": null,
   "metadata": {},
   "outputs": [],
   "source": [
    "#req: I want to appreciate all the students in the above list"
   ]
  },
  {
   "cell_type": "code",
   "execution_count": 6,
   "metadata": {},
   "outputs": [
    {
     "name": "stdout",
     "output_type": "stream",
     "text": [
      "Keep up the good work,Shafi\n"
     ]
    }
   ],
   "source": [
    "print(f\"Keep up the good work,{students[0].title()}\")"
   ]
  },
  {
   "cell_type": "code",
   "execution_count": 4,
   "metadata": {},
   "outputs": [
    {
     "name": "stdout",
     "output_type": "stream",
     "text": [
      "Keep up the good work Idris\n"
     ]
    }
   ],
   "source": [
    "print(f\"Keep up the good work\",students[4].title()) # sir if I dont give curly braces then also it is working can u plz clarify on this"
   ]
  },
  {
   "cell_type": "code",
   "execution_count": null,
   "metadata": {},
   "outputs": [],
   "source": [
    "# for loop"
   ]
  },
  {
   "cell_type": "code",
   "execution_count": 13,
   "metadata": {},
   "outputs": [
    {
     "name": "stdout",
     "output_type": "stream",
     "text": [
      "keep up the good work,Shafi\n",
      "keep up the good work,Akshay\n",
      "keep up the good work,Ibrahim\n",
      "keep up the good work,Sumaiya\n",
      "keep up the good work,Idris\n"
     ]
    }
   ],
   "source": [
    "for x in students:\n",
    "    print(f\"keep up the good work,{x.title()}\")"
   ]
  },
  {
   "cell_type": "code",
   "execution_count": 16,
   "metadata": {},
   "outputs": [
    {
     "name": "stdout",
     "output_type": "stream",
     "text": [
      "keep up the good work,Shafi\n",
      "I am loking forward to receive your practise files,Shafi\n",
      "keep up the good work,Akshay\n",
      "I am loking forward to receive your practise files,Akshay\n",
      "keep up the good work,Ibrahim\n",
      "I am loking forward to receive your practise files,Ibrahim\n",
      "keep up the good work,Sumaiya\n",
      "I am loking forward to receive your practise files,Sumaiya\n",
      "keep up the good work,Idris\n",
      "I am loking forward to receive your practise files,Idris\n"
     ]
    }
   ],
   "source": [
    "#Enchancement of the code\n",
    "for a in students:\n",
    "    print(f\"keep up the good work,{a.title()}\")\n",
    "    print(f\"I am loking forward to receive your practise files,{a.title()}\")"
   ]
  },
  {
   "cell_type": "code",
   "execution_count": null,
   "metadata": {},
   "outputs": [],
   "source": [
    "# It looks clumsy and ifficult to read. To make it more clear and readable we shd put \\n"
   ]
  },
  {
   "cell_type": "code",
   "execution_count": null,
   "metadata": {},
   "outputs": [],
   "source": [
    "# Again enhancement of code---> put \\n (to give one line space)"
   ]
  },
  {
   "cell_type": "code",
   "execution_count": 18,
   "metadata": {},
   "outputs": [
    {
     "name": "stdout",
     "output_type": "stream",
     "text": [
      "keep up the good work,Shafi\n",
      "I am loking forward to receive your practise files,Shafi.\n",
      "\n",
      "keep up the good work,Akshay\n",
      "I am loking forward to receive your practise files,Akshay.\n",
      "\n",
      "keep up the good work,Ibrahim\n",
      "I am loking forward to receive your practise files,Ibrahim.\n",
      "\n",
      "keep up the good work,Sumaiya\n",
      "I am loking forward to receive your practise files,Sumaiya.\n",
      "\n",
      "keep up the good work,Idris\n",
      "I am loking forward to receive your practise files,Idris.\n",
      "\n"
     ]
    }
   ],
   "source": [
    "for a in students:\n",
    "    print(f\"keep up the good work,{a.title()}\")\n",
    "    print(f\"I am loking forward to receive your practise files,{a.title()}.\\n\") # we are giving a dot and one line space"
   ]
  },
  {
   "cell_type": "code",
   "execution_count": 19,
   "metadata": {},
   "outputs": [
    {
     "name": "stdout",
     "output_type": "stream",
     "text": [
      "keep up the good work,Shafi\n",
      "I am loking forward to receive your practise files,Shafi.\n",
      "\n",
      "keep up the good work,Akshay\n",
      "I am loking forward to receive your practise files,Akshay.\n",
      "\n",
      "keep up the good work,Ibrahim\n",
      "I am loking forward to receive your practise files,Ibrahim.\n",
      "\n",
      "keep up the good work,Sumaiya\n",
      "I am loking forward to receive your practise files,Sumaiya.\n",
      "\n",
      "keep up the good work,Idris\n",
      "I am loking forward to receive your practise files,Idris.\n",
      "\n",
      "Thank You for showing interest in learning Python\n"
     ]
    }
   ],
   "source": [
    "#writing in the loop..!\n",
    "for a in students:\n",
    "    print(f\"keep up the good work,{a.title()}\")\n",
    "    print(f\"I am loking forward to receive your practise files,{a.title()}.\\n\") \n",
    "print(\"Thank You for showing interest in learning Python\")"
   ]
  },
  {
   "cell_type": "code",
   "execution_count": null,
   "metadata": {},
   "outputs": [],
   "source": []
  }
 ],
 "metadata": {
  "kernelspec": {
   "display_name": "Python 3",
   "language": "python",
   "name": "python3"
  },
  "language_info": {
   "codemirror_mode": {
    "name": "ipython",
    "version": 3
   },
   "file_extension": ".py",
   "mimetype": "text/x-python",
   "name": "python",
   "nbconvert_exporter": "python",
   "pygments_lexer": "ipython3",
   "version": "3.8.5"
  }
 },
 "nbformat": 4,
 "nbformat_minor": 4
}
