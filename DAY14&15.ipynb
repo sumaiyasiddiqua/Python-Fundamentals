{
 "cells": [
  {
   "cell_type": "code",
   "execution_count": null,
   "metadata": {},
   "outputs": [],
   "source": [
    "Intoduction to Python classes\n",
    "1.Class\n",
    "2.methods\n",
    "3.attributes\n",
    "4.self\n",
    "5.Objects"
   ]
  },
  {
   "cell_type": "code",
   "execution_count": null,
   "metadata": {},
   "outputs": [],
   "source": [
    "class---> It is a highlevel blue print of the program"
   ]
  },
  {
   "cell_type": "code",
   "execution_count": null,
   "metadata": {},
   "outputs": [],
   "source": [
    "How to define the class ---> by using a keyword called as class\n",
    "for giving the class name we have to use title case"
   ]
  },
  {
   "cell_type": "code",
   "execution_count": null,
   "metadata": {},
   "outputs": [],
   "source": [
    "Methods: A function written inside a class is called as method."
   ]
  },
  {
   "cell_type": "code",
   "execution_count": null,
   "metadata": {},
   "outputs": [],
   "source": [
    "Attributes:A variable written inside the class is called as an attribute."
   ]
  },
  {
   "cell_type": "code",
   "execution_count": null,
   "metadata": {},
   "outputs": [],
   "source": [
    "self: A self is temporary place holder for an object."
   ]
  },
  {
   "cell_type": "code",
   "execution_count": null,
   "metadata": {},
   "outputs": [],
   "source": [
    "object/instance---> It is also called as instance of a class.\n",
    "                    It is an access point for the class methods"
   ]
  },
  {
   "cell_type": "code",
   "execution_count": null,
   "metadata": {},
   "outputs": [],
   "source": [
    "#req: Create a class called Greet.\n",
    "It needs to have the below methods:\n",
    "    1.accept the input from the user--->createuser\n",
    "    2.Display the username  ----> displayuser\n",
    "    3.greet the user ---->greetuser"
   ]
  },
  {
   "cell_type": "code",
   "execution_count": 1,
   "metadata": {},
   "outputs": [],
   "source": [
    "class Greet:\n",
    "    \"\"\"creating a class for handling the user\"\"\"  #doc string\n",
    "    def createuser(self,username):    #method\n",
    "        self.username=username        #attribute  #test.username='john'\n",
    "        \n",
    "    def displayuser(self):   #method\n",
    "        print(f\"{self.username}\")\n",
    "        \n",
    "    def greetuser(self):\n",
    "        print(f\"Hello,{self.username}\")"
   ]
  },
  {
   "cell_type": "code",
   "execution_count": null,
   "metadata": {},
   "outputs": [],
   "source": [
    "#object assignment to the class"
   ]
  },
  {
   "cell_type": "code",
   "execution_count": 2,
   "metadata": {},
   "outputs": [],
   "source": [
    "test=Greet()      #object has been assigned"
   ]
  },
  {
   "cell_type": "code",
   "execution_count": 3,
   "metadata": {},
   "outputs": [],
   "source": [
    "test.createuser('john')"
   ]
  },
  {
   "cell_type": "code",
   "execution_count": 4,
   "metadata": {},
   "outputs": [
    {
     "name": "stdout",
     "output_type": "stream",
     "text": [
      "john\n"
     ]
    }
   ],
   "source": [
    "test.displayuser()"
   ]
  },
  {
   "cell_type": "code",
   "execution_count": 5,
   "metadata": {},
   "outputs": [
    {
     "name": "stdout",
     "output_type": "stream",
     "text": [
      "Hello,john\n"
     ]
    }
   ],
   "source": [
    "test.greetuser()"
   ]
  },
  {
   "cell_type": "code",
   "execution_count": 6,
   "metadata": {},
   "outputs": [],
   "source": [
    "x=Greet()"
   ]
  },
  {
   "cell_type": "code",
   "execution_count": 7,
   "metadata": {},
   "outputs": [],
   "source": [
    "x.createuser('sumaiya')"
   ]
  },
  {
   "cell_type": "code",
   "execution_count": 9,
   "metadata": {},
   "outputs": [
    {
     "name": "stdout",
     "output_type": "stream",
     "text": [
      "sumaiya\n"
     ]
    }
   ],
   "source": [
    "x.displayuser()"
   ]
  },
  {
   "cell_type": "code",
   "execution_count": 10,
   "metadata": {},
   "outputs": [
    {
     "name": "stdout",
     "output_type": "stream",
     "text": [
      "Hello,sumaiya\n"
     ]
    }
   ],
   "source": [
    "x.greetuser()"
   ]
  },
  {
   "cell_type": "code",
   "execution_count": null,
   "metadata": {},
   "outputs": [],
   "source": [
    "#I am accepting two more parameter called age,location."
   ]
  },
  {
   "cell_type": "code",
   "execution_count": 43,
   "metadata": {},
   "outputs": [],
   "source": [
    "class Greet:\n",
    "    \"\"\"creating a class for handling the user\"\"\"  #doc string\n",
    "    def createuser(self,username,age,location):    #method\n",
    "        self.username=username   #attribute  #test.username='john'\n",
    "        self.age=age\n",
    "        self.location=location\n",
    "    def displayuser(self):   #method\n",
    "        print(f\"{self.username}\\n{self.age}\\n{self.location}\")        \n",
    "        \n",
    "    def greetuser(self):\n",
    "        print(f\"Hello,{self.username}\")"
   ]
  },
  {
   "cell_type": "code",
   "execution_count": 44,
   "metadata": {},
   "outputs": [],
   "source": [
    "obj1=Greet()"
   ]
  },
  {
   "cell_type": "code",
   "execution_count": 45,
   "metadata": {},
   "outputs": [],
   "source": [
    "obj1.createuser('georgin',10,'dubai')"
   ]
  },
  {
   "cell_type": "code",
   "execution_count": 46,
   "metadata": {},
   "outputs": [
    {
     "name": "stdout",
     "output_type": "stream",
     "text": [
      "georgin\n",
      "10\n",
      "dubai\n"
     ]
    }
   ],
   "source": [
    "obj1.displayuser()"
   ]
  },
  {
   "cell_type": "code",
   "execution_count": 47,
   "metadata": {},
   "outputs": [
    {
     "name": "stdout",
     "output_type": "stream",
     "text": [
      "Hello,georgin\n"
     ]
    }
   ],
   "source": [
    "obj1.greetuser()"
   ]
  },
  {
   "cell_type": "code",
   "execution_count": null,
   "metadata": {},
   "outputs": [],
   "source": [
    "Introduction To constructor"
   ]
  },
  {
   "cell_type": "code",
   "execution_count": null,
   "metadata": {},
   "outputs": [],
   "source": [
    "Also called as special method or magical method as well"
   ]
  },
  {
   "cell_type": "code",
   "execution_count": null,
   "metadata": {},
   "outputs": [],
   "source": [
    "Overview and Understaning:\n",
    "    Constuctor is utilised for initializing the attributes and methods automatically."
   ]
  },
  {
   "cell_type": "code",
   "execution_count": null,
   "metadata": {},
   "outputs": [],
   "source": [
    "How to define the constructor:\n",
    "    def __init__()"
   ]
  },
  {
   "cell_type": "code",
   "execution_count": null,
   "metadata": {},
   "outputs": [],
   "source": [
    "#req:create a dog class where in it needs to have the below methods.\n",
    "1.Sit\n",
    "2.Jump\n",
    "3.Roll-over\n",
    "4.Sleep\n",
    "5.details"
   ]
  },
  {
   "cell_type": "code",
   "execution_count": 56,
   "metadata": {},
   "outputs": [],
   "source": [
    "class Dog:\n",
    "    \"\"\"creating a dog class with its methods\"\"\"\n",
    "    def __init__(self,name,age):                \n",
    "        self.name=name\n",
    "        self.age=age\n",
    "        \n",
    "    def sit(self):\n",
    "        print(f\"{self.name} is now sitting on the command\")\n",
    "        \n",
    "    def jump(self):\n",
    "        print(f\"{self.name} is now jumping on the command\")\n",
    "        \n",
    "    def roll_over(self):\n",
    "        print(f\"{self.name} is now rolling on the command\")\n",
    "        \n",
    "    def sleep(self):\n",
    "        print(f\"{self.name} is now sleeping on the command\")\n",
    "        \n",
    "    def details(self):\n",
    "        print(f\"My animal name is {self.name}\")\n",
    "        print(f\"My animal age is {self.age}\")"
   ]
  },
  {
   "cell_type": "code",
   "execution_count": 57,
   "metadata": {},
   "outputs": [],
   "source": [
    "test=Dog('scooby',4)  #We can declare the arguements while assigning an object to the class directly.\n",
    "                      #It is the best practice."
   ]
  },
  {
   "cell_type": "code",
   "execution_count": 58,
   "metadata": {},
   "outputs": [
    {
     "name": "stdout",
     "output_type": "stream",
     "text": [
      "scooby is now sitting on the command\n"
     ]
    }
   ],
   "source": [
    "test.sit()"
   ]
  },
  {
   "cell_type": "code",
   "execution_count": 59,
   "metadata": {},
   "outputs": [
    {
     "name": "stdout",
     "output_type": "stream",
     "text": [
      "scooby is now jumping on the command\n"
     ]
    }
   ],
   "source": [
    "test.jump()"
   ]
  },
  {
   "cell_type": "code",
   "execution_count": 60,
   "metadata": {},
   "outputs": [
    {
     "name": "stdout",
     "output_type": "stream",
     "text": [
      "scooby is now rolling on the command\n"
     ]
    }
   ],
   "source": [
    "test.roll_over()"
   ]
  },
  {
   "cell_type": "code",
   "execution_count": 61,
   "metadata": {},
   "outputs": [
    {
     "name": "stdout",
     "output_type": "stream",
     "text": [
      "scooby is now sleeping on the command\n"
     ]
    }
   ],
   "source": [
    "test.sleep()"
   ]
  },
  {
   "cell_type": "code",
   "execution_count": 62,
   "metadata": {},
   "outputs": [
    {
     "name": "stdout",
     "output_type": "stream",
     "text": [
      "My animal name is scooby\n",
      "My animal age is 4\n"
     ]
    }
   ],
   "source": [
    "test.details()"
   ]
  },
  {
   "cell_type": "code",
   "execution_count": null,
   "metadata": {},
   "outputs": [],
   "source": [
    "#without init method the program is considered incomplete."
   ]
  }
 ],
 "metadata": {
  "kernelspec": {
   "display_name": "Python 3",
   "language": "python",
   "name": "python3"
  },
  "language_info": {
   "codemirror_mode": {
    "name": "ipython",
    "version": 3
   },
   "file_extension": ".py",
   "mimetype": "text/x-python",
   "name": "python",
   "nbconvert_exporter": "python",
   "pygments_lexer": "ipython3",
   "version": "3.8.5"
  }
 },
 "nbformat": 4,
 "nbformat_minor": 4
}
